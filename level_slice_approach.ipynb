{
  "nbformat": 4,
  "nbformat_minor": 0,
  "metadata": {
    "colab": {
      "provenance": []
    },
    "kernelspec": {
      "name": "python3",
      "display_name": "Python 3"
    },
    "language_info": {
      "name": "python"
    }
  },
  "cells": [
    {
      "cell_type": "code",
      "source": [
        "import csv\n",
        "import matplotlib.pyplot as plt\n",
        "from functools import cmp_to_key"
      ],
      "metadata": {
        "id": "kKPUjYdbmbRb"
      },
      "execution_count": 75,
      "outputs": []
    },
    {
      "cell_type": "code",
      "source": [],
      "metadata": {
        "id": "BFD4_YaIY4UF"
      },
      "execution_count": 75,
      "outputs": []
    },
    {
      "cell_type": "markdown",
      "source": [
        "1. it has space for end moment small express packages\n",
        "2. faster dues to direct implementation"
      ],
      "metadata": {
        "id": "pYl2lVICY4vN"
      }
    },
    {
      "cell_type": "code",
      "execution_count": 76,
      "metadata": {
        "id": "SOtr31G0MS3e"
      },
      "outputs": [],
      "source": [
        "class Item:\n",
        "    def __init__(self, charid, length, width, height, weight, ptype, profit, itemid):\n",
        "        #assuming that along x axis is width, along y axis is height and along z axis is depth/length\n",
        "        self.itemid = int(itemid)\n",
        "        self.width = int(width)\n",
        "        self.height = int(height)\n",
        "        self.length = int(length)\n",
        "        self.profit = int(profit)\n",
        "        self.weight = int(weight)\n",
        "        self.charid = charid\n",
        "        self.x = None\n",
        "        self.y = None\n",
        "        self.z = None\n",
        "        self.ptype = ptype\n",
        "\n",
        "    def __repr__(self):\n",
        "        return f\"Item({self.charid}, {self.length}, {self.width}, {self.height}, ({self.x}, {self.y}, {self.z}), {self.weight}, {self.profit}, {self.ptype})\\n\"\n"
      ]
    },
    {
      "cell_type": "code",
      "source": [
        "class Uld:\n",
        "    #assuming that along x axis is width, along y axis is height and along z axis is depth/length\n",
        "    def __init__(self, charid, length, width, height, capacity, uid):\n",
        "        self.uid = int(uid)\n",
        "        self.capacity = int(capacity)\n",
        "        self.width = int(width)\n",
        "        self.height = int(height)\n",
        "        self.length = int(length)\n",
        "        self.charid = charid\n",
        "    def __repr__(self):\n",
        "        return f\"ULD({self.charid}, {self.length}, {self.width}, {self.height}, {self.capacity})\\n\""
      ],
      "metadata": {
        "id": "LDTdzebDeS4H"
      },
      "execution_count": 77,
      "outputs": []
    },
    {
      "cell_type": "code",
      "source": [
        "#sort functions based on length, height and width\n",
        "def sort_length(items, start=0, end=400, rev=False):\n",
        "  '''sort in ascending using length'''\n",
        "  unsorted_items = items[start:end]\n",
        "  sorted_items = sorted(unsorted_items, key = lambda x: x.length, reverse = rev)\n",
        "  return sorted_items\n",
        "\n",
        "def sort_height(items, start = 0, end = 400,rev=False):\n",
        "  '''sort in ascending using height'''\n",
        "  unsorted_items = items[start:end]\n",
        "  sorted_items = sorted(unsorted_items, key = lambda x: x.height, reverse = rev)\n",
        "  return sorted_items\n",
        "\n",
        "def sort_width(items, start = 0, end = 400, rev=True):\n",
        "  '''sort in descending using width'''\n",
        "  unsorted_items = items[start:end]\n",
        "  sorted_items = sorted(unsorted_items, key = lambda x: x.width, reverse=rev)\n",
        "  return sorted_items\n"
      ],
      "metadata": {
        "id": "QLBJ9f4XeUBb"
      },
      "execution_count": 78,
      "outputs": []
    },
    {
      "cell_type": "code",
      "source": [
        "#extract data from csv\n",
        "uld_obj = open('ulds.csv', 'r')\n",
        "item_obj = open('packages.csv', 'r')\n",
        "data_item = csv.reader(item_obj)\n",
        "ind = 0\n",
        "priority_count = 0\n",
        "total_delay_cost = 0\n",
        "\n",
        "items=[]\n",
        "ulds=[]\n",
        "\n",
        "for row in data_item:\n",
        "  if ind==0:\n",
        "    ind=1\n",
        "    continue\n",
        "  row = [x.strip().replace(\"'\", \"\").strip() for x in row]\n",
        "  ptype = row[5]\n",
        "  if(ptype==\"Economy\"):\n",
        "      total_delay_cost += int(row[6])\n",
        "      row.append(ind)\n",
        "      item = Item(*row)\n",
        "      #items_eco.append(item)\n",
        "      items.append(item)\n",
        "      #ind+=1\n",
        "\n",
        "  else:\n",
        "      priority_count +=1\n",
        "      row[6] = 1000\n",
        "      row.append(ind)\n",
        "      item = Item(*row)\n",
        "      #items_prio.append(item)\n",
        "      items.append(item)\n",
        "\n",
        "  ind+=1\n",
        "\n",
        "\n",
        "data_uld = csv.reader(uld_obj)\n",
        "ind = 0\n",
        "for row in data_uld:\n",
        "    if(ind==0):\n",
        "        ind = 1\n",
        "        continue\n",
        "    row = [x.strip().replace(\"'\", \"\").strip() for x in row]\n",
        "    row.append(ind)\n",
        "    container = Uld(*row)\n",
        "    ulds.append(container)\n",
        "    ind+=1\n",
        "\n",
        "total_items = len(items)"
      ],
      "metadata": {
        "id": "ITruK4IAmTMk"
      },
      "execution_count": 79,
      "outputs": []
    },
    {
      "cell_type": "code",
      "source": [
        "'''\n",
        "sorting in ascending order of height\n",
        "then ascending order of height\n",
        "then\n",
        "'''\n",
        "# sorting items based on increasing value of height , then length then decreasing order of width\n",
        "items = sorted(items, key = lambda x : (x.height, x.length, -x.weight, -x.width))\n",
        "\n",
        "# sorting ulds , initially smallest height, then length and greatest width\n",
        "ulds = sorted(ulds, key = lambda x : (x.height, x.length, -x.width))\n",
        "print(ulds)"
      ],
      "metadata": {
        "id": "u0M_GYzSmmWC",
        "colab": {
          "base_uri": "https://localhost:8080/"
        },
        "collapsed": true,
        "outputId": "4c5194c0-95db-4b0d-aaa1-bec501be2e5b"
      },
      "execution_count": 80,
      "outputs": [
        {
          "output_type": "stream",
          "name": "stdout",
          "text": [
            "[ULD(U1, 224, 318, 162, 2500)\n",
            ", ULD(U2, 224, 318, 162, 2500)\n",
            ", ULD(U3, 244, 318, 244, 2800)\n",
            ", ULD(U4, 244, 318, 244, 2800)\n",
            ", ULD(U5, 244, 318, 285, 3500)\n",
            ", ULD(U6, 244, 318, 285, 3500)\n",
            "]\n"
          ]
        }
      ]
    },
    {
      "cell_type": "code",
      "source": [
        "def levelSlice(items, uld):\n",
        "  placed_items = []\n",
        "  i = 0\n",
        "  retry =[0]*len(items)\n",
        "  for uld in ulds:\n",
        "    used_weight = 0\n",
        "    used_width = 0 #used for filling across width\n",
        "    used_height = 0 # initial level\n",
        "    used_length = 0 # initial slice\n",
        "\n",
        "    #uld param\n",
        "    cap = uld.capacity\n",
        "    binx = uld.length\n",
        "    biny = uld.height\n",
        "    binz = uld.width\n",
        "\n",
        "    #item param\n",
        "    max_item_length = 0\n",
        "    max_item_height = 0\n",
        "\n",
        "    while(i<len(items)):\n",
        "      item = items[i]\n",
        "      if(retry[i]==2):\n",
        "        #trying at most 2 times to place an item\n",
        "        i+=1\n",
        "        continue\n",
        "      if(item.weight + used_weight > cap):\n",
        "        #checking weight constraints\n",
        "        retry[i] += 1\n",
        "        break\n",
        "      elif(item.height + used_height > biny):\n",
        "        # moves to next uld if item height exceeds allowed height\n",
        "        retry[i] += 1\n",
        "        break\n",
        "      elif(item.width + used_width > binz):\n",
        "        # moves to next slice if width of item is exceeded\n",
        "        used_width = 0\n",
        "        used_length = max_item_length\n",
        "        max_item_length = 0\n",
        "        retry[i] += 1\n",
        "      elif(item.length + used_length > binx):\n",
        "        used_length = 0\n",
        "        used_width=0\n",
        "        used_height = max_item_height\n",
        "        max_item_height = 0\n",
        "        retry[i] += 1\n",
        "      else:\n",
        "        max_item_length = max(max_item_length, item.length + used_length) # storing max length for next x slice\n",
        "        max_item_height = max(max_item_height, item.height + used_height) # items already sorted in increasing order of height\n",
        "\n",
        "        x = used_length # value of starting coordinate of slice in use\n",
        "        y = used_height # value of the level at which the packages are placed\n",
        "        z = used_width  # the width of the last item placed in that level-slice\n",
        "\n",
        "        used_width += item.width #new starting width for next item\n",
        "\n",
        "        used_weight += item.weight\n",
        "        # assign coordinates to item\n",
        "        item.x=x\n",
        "        item.y=y\n",
        "        item.z=z\n",
        "        i+=1\n",
        "        placed_items.append((uld.uid,item))\n",
        "  print(retry)\n",
        "  return placed_items\n",
        "\n",
        "\n",
        "\n"
      ],
      "metadata": {
        "id": "LfONRcWSnbRj",
        "collapsed": true
      },
      "execution_count": 104,
      "outputs": []
    },
    {
      "cell_type": "code",
      "source": [
        "placed_items = levelSlice(items,ulds)\n",
        "print(len(placed_items))"
      ],
      "metadata": {
        "id": "yDqwYvjapNLt",
        "colab": {
          "base_uri": "https://localhost:8080/"
        },
        "outputId": "e5a7b65e-eb11-442a-e433-0c489e353332"
      },
      "execution_count": 105,
      "outputs": [
        {
          "output_type": "stream",
          "name": "stdout",
          "text": [
            "[0, 0, 0, 0, 1, 0, 0, 0, 1, 1, 0, 0, 0, 2, 0, 0, 0, 1, 0, 0, 2, 1, 0, 0, 1, 0, 0, 0, 2, 0, 0, 0, 1, 0, 0, 2, 0, 0, 0, 0, 1, 0, 0, 0, 2, 1, 0, 0, 0, 1, 0, 0, 2, 0, 0, 0, 0, 1, 0, 0, 2, 0, 0, 0, 1, 0, 0, 2, 0, 0, 0, 1, 0, 0, 0, 2, 1, 0, 0, 1, 0, 0, 0, 2, 0, 0, 0, 1, 0, 0, 0, 0, 2, 0, 0, 0, 0, 0, 1, 0, 0, 0, 2, 0, 0, 0, 0, 1, 0, 0, 0, 2, 1, 0, 0, 0, 1, 0, 0, 1, 1, 0, 0, 0, 2, 0, 0, 0, 0, 0, 1, 0, 1, 0, 1, 0, 0, 2, 1, 0, 0, 0, 1, 0, 0, 2, 0, 0, 0, 1, 0, 0, 2, 0, 0, 0, 0, 1, 0, 0, 1, 0, 1, 0, 0, 2, 1, 0, 0, 0, 0, 0, 0, 0, 0, 0, 0, 0, 0, 0, 0, 0, 0, 0, 0, 0, 0, 0, 0, 0, 0, 0, 0, 0, 0, 0, 0, 0, 0, 0, 0, 0, 0, 0, 0, 0, 0, 0, 0, 0, 0, 0, 0, 0, 0, 0, 0, 0, 0, 0, 0, 0, 0, 0, 0, 0, 0, 0, 0, 0, 0, 0, 0, 0, 0, 0, 0, 0, 0, 0, 0, 0, 0, 0, 0, 0, 0, 0, 0, 0, 0, 0, 0, 0, 0, 0, 0, 0, 0, 0, 0, 0, 0, 0, 0, 0, 0, 0, 0, 0, 0, 0, 0, 0, 0, 0, 0, 0, 0, 0, 0, 0, 0, 0, 0, 0, 0, 0, 0, 0, 0, 0, 0, 0, 0, 0, 0, 0, 0, 0, 0, 0, 0, 0, 0, 0, 0, 0, 0, 0, 0, 0, 0, 0, 0, 0, 0, 0, 0, 0, 0, 0, 0, 0, 0, 0, 0, 0, 0, 0, 0, 0, 0, 0, 0, 0, 0, 0, 0, 0, 0, 0, 0, 0, 0, 0, 0, 0, 0, 0, 0, 0, 0, 0, 0, 0, 0, 0, 0, 0, 0, 0, 0, 0, 0, 0, 0, 0, 0, 0, 0, 0, 0, 0, 0, 0, 0, 0, 0, 0, 0, 0, 0, 0, 0, 0, 0, 0, 0, 0, 0, 0, 0, 0, 0, 0, 0, 0, 0, 0]\n",
            "148\n"
          ]
        }
      ]
    },
    {
      "cell_type": "code",
      "source": [
        "# writing to output\n",
        "opfile = open(\"solution_level_slice.csv\",\"w\")\n",
        "writer = csv.writer(opfile)\n",
        "writer.writerow([\"uld_id\",\"pack_id\",\"x1\",\"y1\",\"z1\",\"x2\",\"y2\",\"z2\"])\n",
        "for row in placed_items:\n",
        "  item = row[1]\n",
        "  uid = row[0]\n",
        "  charid = item.charid\n",
        "  x1 = item.x\n",
        "  y1 = item.y\n",
        "  z1 = item.z\n",
        "  x2 = x1 + item.length\n",
        "  y2 = y1 + item.height\n",
        "  z2 = z1 + item.width\n",
        "  writer.writerow([\"U\"+str(uid), charid, x1,z1, y1, x2, z2, y2])\n",
        "opfile.close()"
      ],
      "metadata": {
        "id": "kiBHOW7jhaNg"
      },
      "execution_count": 106,
      "outputs": []
    },
    {
      "cell_type": "code",
      "source": [],
      "metadata": {
        "id": "S4TZ41eEouxH"
      },
      "execution_count": 83,
      "outputs": []
    }
  ]
}